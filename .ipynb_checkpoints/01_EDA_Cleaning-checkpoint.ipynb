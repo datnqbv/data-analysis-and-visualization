{
  "cells": [
    {
      "cell_type": "markdown",
      "metadata": {},
      "source": [
        "# 01 - EDA & Cleaning\n",
        "\n",
        "Mục tiêu:\n",
        "- Khảo sát dữ liệu thô `Data_Jobs.csv`\n",
        "- Làm sạch và chuẩn hóa dữ liệu\n",
        "- Ghi lại các quyết định xử lý và ảnh hưởng\n",
        "- Xuất `Data_Jobs_Clean.csv` để dùng cho phân tích tiếp theo\n"
      ]
    },
    {
      "cell_type": "code",
      "execution_count": null,
      "metadata": {},
      "outputs": [],
      "source": [
        "import pandas as pd\n",
        "import numpy as np\n",
        "import seaborn as sns\n",
        "import matplotlib.pyplot as plt\n",
        "import os\n",
        "\n",
        "pd.set_option('display.max_columns', None)\n",
        "sns.set_theme(style=\"whitegrid\")\n",
        "\n",
        "RAW_PATH = r\"D:\\Truc_quan\\Data_Jobs.csv\"\n",
        "CLEAN_PATH = r\"D:\\Truc_quan\\Data_Jobs_Clean.csv\"\n",
        "\n",
        "# Kiểm tra file tồn tại\n",
        "assert os.path.exists(RAW_PATH), f\"Không tìm thấy file: {RAW_PATH}\"\n",
        "\n",
        "# Đọc dữ liệu thô\n",
        "raw_df = pd.read_csv(RAW_PATH, encoding=\"latin1\")\n",
        "raw_df.head()\n"
      ]
    },
    {
      "cell_type": "code",
      "execution_count": null,
      "metadata": {},
      "outputs": [],
      "source": [
        "# Tự động dùng dữ liệu sạch nếu đã có\n",
        "USE_CLEAN = os.path.exists(CLEAN_PATH)\n",
        "if USE_CLEAN:\n",
        "    print(\"Phát hiện Data_Jobs_Clean.csv. Sử dụng dữ liệu sạch, bỏ qua bước làm sạch.\")\n",
        "    df = pd.read_csv(CLEAN_PATH, encoding='utf-8')\n",
        "else:\n",
        "    print(\"Chưa có dữ liệu sạch. Sẽ tiến hành làm sạch từ dữ liệu thô.\")\n"
      ]
    },
    {
      "cell_type": "code",
      "execution_count": null,
      "metadata": {},
      "outputs": [],
      "source": [
        "# Tổng quan dữ liệu\n",
        "raw_shape = raw_df.shape\n",
        "raw_info = raw_df.info()\n",
        "raw_desc = raw_df.describe(include='all')\n",
        "print(\"Kích thước dữ liệu thô:\", raw_shape)\n",
        "raw_df.isna().sum().sort_values(ascending=False).head(20)\n"
      ]
    },
    {
      "cell_type": "code",
      "execution_count": null,
      "metadata": {},
      "outputs": [],
      "source": [
        "# Làm sạch dữ liệu (theo logic từ Clean_data.py)\n",
        "df = raw_df.copy()\n",
        "\n",
        "# 1) Xóa trùng lặp\n",
        "subset_cols = [col for col in [\"Job_ID\", \"Job_Title\", \"JD_Trans\"] if col in df.columns]\n",
        "if subset_cols:\n",
        "    df = df.drop_duplicates(subset=subset_cols)\n",
        "print(\"Sau khi xóa trùng:\", df.shape)\n",
        "\n",
        "# 2) Xử lý thiếu\n",
        "num_cols = [col for col in [\"Min_YOE\", \"Est_Salary\"] if col in df.columns]\n",
        "for col in num_cols:\n",
        "    df[col] = df[col].fillna(df[col].median())\n",
        "\n",
        "text_cols = df.select_dtypes(include=\"object\").columns\n",
        "df[text_cols] = df[text_cols].fillna(\"Unknown\")\n",
        "\n",
        "role_cols = [\"Data_Engineer\",\"Data_Analyst\",\"Data_Scientist\",\n",
        "             \"Business_Analyst\",\"Business_Intelligence\",\n",
        "             \"Combined_role\",\"Others\"]\n",
        "for col in role_cols:\n",
        "    if col not in df.columns:\n",
        "        df[col] = 0\n",
        "\n",
        "df[role_cols] = df[role_cols].fillna(0).astype(int)\n",
        "\n",
        "# 3) Chuẩn hóa\n",
        "if \"Job_Title\" in df.columns:\n",
        "    df[\"Job_Title\"] = df[\"Job_Title\"].str.strip().str.title()\n",
        "\n",
        "if \"Location\" in df.columns:\n",
        "    df[\"Location\"] = df[\"Location\"].str.strip().str.upper()\n",
        "    location_map = {\"HN\":\"HANOI\",\"HA NOI\":\"HANOI\",\"HÀ NỘI\":\"HANOI\",\n",
        "                    \"HCM\":\"HCMC\",\"HO CHI MINH\":\"HCMC\",\"TPHCM\":\"HCMC\",\"TP. HCM\":\"HCMC\",\n",
        "                    \"VIETNAM\":\"VIETNAM\",\"VN\":\"VIETNAM\",\"VN*\":\"VIETNAM\",\"VN ( HN\":\"VIETNAM\",\n",
        "                    \"PHILIPINES\":\"PHILIPPINES\",\"PHILIPPINES\":\"PHILIPPINES\",\n",
        "                    \"REMOTE\":\"REMOTE\",\"UNKNOWN\":\"UNKNOWN\"}\n",
        "    df[\"Location\"] = df[\"Location\"].replace(location_map)\n",
        "    valid_locations = [\"HANOI\",\"HCMC\",\"VIETNAM\",\"PHILIPPINES\",\"REMOTE\",\"UNKNOWN\"]\n",
        "    df.loc[~df[\"Location\"].isin(valid_locations), \"Location\"] = \"UNKNOWN\"\n",
        "\n",
        "# Min_YOE\n",
        "if \"Min_YOE\" in df.columns:\n",
        "    df[\"Min_YOE\"] = df[\"Min_YOE\"].round().astype(int)\n",
        "    df = df[df[\"Min_YOE\"] >= 0]\n",
        "\n",
        "# Outlier lương bằng z-score\n",
        "if \"Est_Salary\" in df.columns:\n",
        "    z_scores = (df[\"Est_Salary\"] - df[\"Est_Salary\"].mean()) / df[\"Est_Salary\"].std()\n",
        "    df = df[np.abs(z_scores) <= 3]\n",
        "\n",
        "# 4) Toàn vẹn\n",
        "if \"Job_Title\" in df.columns:\n",
        "    df.loc[df[\"Job_Title\"].str.contains(\"Data Engineer\", case=False, na=False), \"Data_Engineer\"] = 1\n",
        "    df.loc[df[\"Job_Title\"].str.contains(\"Data Analyst\", case=False, na=False), \"Data_Analyst\"] = 1\n",
        "    df.loc[df[\"Job_Title\"].str.contains(\"Data Scientist\", case=False, na=False), \"Data_Scientist\"] = 1\n",
        "    df.loc[df[\"Job_Title\"].str.contains(\"Business Analyst\", case=False, na=False), \"Business_Analyst\"] = 1\n",
        "\n",
        "# Ít nhất một role\n",
        "df[\"Role_Sum\"] = df[role_cols].sum(axis=1)\n",
        "df.loc[df[\"Role_Sum\"] == 0, \"Others\"] = 1\n",
        "df.drop(columns=\"Role_Sum\", inplace=True)\n",
        "\n",
        "# Job_ID duy nhất\n",
        "if \"Job_ID\" in df.columns:\n",
        "    df = df.drop_duplicates(subset=[\"Job_ID\"]) \n",
        "\n",
        "# 5) Last_Updated\n",
        "from datetime import date\n",
        "df[\"Last_Updated\"] = date.today().strftime(\"%Y-%m-%d\")\n",
        "\n",
        "print(\"Kích thước sau làm sạch:\", df.shape)\n",
        "df.head()\n"
      ]
    },
    {
      "cell_type": "code",
      "execution_count": null,
      "metadata": {},
      "outputs": [],
      "source": [
        "# Nếu đã có dữ liệu sạch, nạp lại để dùng cho các bước sau\n",
        "if USE_CLEAN:\n",
        "    df = pd.read_csv(CLEAN_PATH, encoding='utf-8')\n",
        "    print(\"Đã nạp lại dữ liệu sạch để dùng cho các bước sau.\")\n"
      ]
    },
    {
      "cell_type": "code",
      "execution_count": null,
      "metadata": {},
      "outputs": [],
      "source": [
        "# So sánh phân bố trước/sau làm sạch\n",
        "fig, axes = plt.subplots(1, 2, figsize=(12,4))\n",
        "sns.histplot(raw_df['Est_Salary'], bins=30, kde=True, ax=axes[0], color='salmon')\n",
        "axes[0].set_title('Est_Salary - Trước làm sạch')\n",
        "sns.histplot(df['Est_Salary'], bins=30, kde=True, ax=axes[1], color='seagreen')\n",
        "axes[1].set_title('Est_Salary - Sau làm sạch')\n",
        "plt.tight_layout()\n",
        "plt.show()\n",
        "\n",
        "fig, axes = plt.subplots(1, 2, figsize=(12,4))\n",
        "sns.countplot(x='Min_YOE', data=raw_df, ax=axes[0])\n",
        "axes[0].set_title('Min_YOE - Trước làm sạch')\n",
        "sns.countplot(x='Min_YOE', data=df, ax=axes[1])\n",
        "axes[1].set_title('Min_YOE - Sau làm sạch')\n",
        "plt.tight_layout()\n",
        "plt.show()\n"
      ]
    },
    {
      "cell_type": "code",
      "execution_count": null,
      "metadata": {},
      "outputs": [],
      "source": [
        "# Xuất dữ liệu sạch\n",
        "(df\n",
        " .to_csv(CLEAN_PATH, index=False, encoding='utf-8-sig')\n",
        ")\n",
        "print(f\"Đã lưu dữ liệu sạch tại: {CLEAN_PATH}\")\n"
      ]
    }
  ],
  "metadata": {
    "language_info": {
      "name": "python"
    }
  },
  "nbformat": 4,
  "nbformat_minor": 2
}
